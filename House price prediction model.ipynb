{
 "cells": [
  {
   "cell_type": "code",
   "execution_count": 1,
   "metadata": {
    "_cell_guid": "b1076dfc-b9ad-4769-8c92-a6c4dae69d19",
    "_uuid": "8f2839f25d086af736a60e9eeb907d3b93b6e0e5",
    "execution": {
     "iopub.execute_input": "2023-10-09T16:11:37.631911Z",
     "iopub.status.busy": "2023-10-09T16:11:37.631539Z",
     "iopub.status.idle": "2023-10-09T16:11:37.655572Z",
     "shell.execute_reply": "2023-10-09T16:11:37.654689Z",
     "shell.execute_reply.started": "2023-10-09T16:11:37.631881Z"
    }
   },
   "outputs": [],
   "source": [
    "import numpy as np # linear algebra\n",
    "import pandas as pd # data processing, CSV file I/O (e.g. pd.read_csv)\n"
   ]
  },
  {
   "cell_type": "code",
   "execution_count": 2,
   "metadata": {
    "execution": {
     "iopub.execute_input": "2023-10-09T16:11:37.663191Z",
     "iopub.status.busy": "2023-10-09T16:11:37.662372Z",
     "iopub.status.idle": "2023-10-09T16:11:37.668164Z",
     "shell.execute_reply": "2023-10-09T16:11:37.667097Z",
     "shell.execute_reply.started": "2023-10-09T16:11:37.663153Z"
    }
   },
   "outputs": [],
   "source": [
    "import matplotlib.pyplot as plt\n",
    "import seaborn as sns"
   ]
  },
  {
   "cell_type": "code",
   "execution_count": 3,
   "metadata": {
    "execution": {
     "iopub.execute_input": "2023-10-09T16:11:37.705009Z",
     "iopub.status.busy": "2023-10-09T16:11:37.704040Z",
     "iopub.status.idle": "2023-10-09T16:11:37.733696Z",
     "shell.execute_reply": "2023-10-09T16:11:37.732159Z",
     "shell.execute_reply.started": "2023-10-09T16:11:37.704964Z"
    }
   },
   "outputs": [],
   "source": [
    "\n",
    "data =pd.read_csv(\"housepriceprediction.csv\")"
   ]
  },
  {
   "cell_type": "code",
   "execution_count": 4,
   "metadata": {
    "execution": {
     "iopub.execute_input": "2023-10-09T16:11:37.751318Z",
     "iopub.status.busy": "2023-10-09T16:11:37.750849Z",
     "iopub.status.idle": "2023-10-09T16:11:37.777150Z",
     "shell.execute_reply": "2023-10-09T16:11:37.776064Z",
     "shell.execute_reply.started": "2023-10-09T16:11:37.751282Z"
    }
   },
   "outputs": [
    {
     "data": {
      "text/html": [
       "<div>\n",
       "<style scoped>\n",
       "    .dataframe tbody tr th:only-of-type {\n",
       "        vertical-align: middle;\n",
       "    }\n",
       "\n",
       "    .dataframe tbody tr th {\n",
       "        vertical-align: top;\n",
       "    }\n",
       "\n",
       "    .dataframe thead th {\n",
       "        text-align: right;\n",
       "    }\n",
       "</style>\n",
       "<table border=\"1\" class=\"dataframe\">\n",
       "  <thead>\n",
       "    <tr style=\"text-align: right;\">\n",
       "      <th></th>\n",
       "      <th>date</th>\n",
       "      <th>price</th>\n",
       "      <th>bedrooms</th>\n",
       "      <th>bathrooms</th>\n",
       "      <th>sqft_living</th>\n",
       "      <th>sqft_lot</th>\n",
       "      <th>floors</th>\n",
       "      <th>waterfront</th>\n",
       "      <th>view</th>\n",
       "      <th>condition</th>\n",
       "      <th>sqft_above</th>\n",
       "      <th>sqft_basement</th>\n",
       "      <th>yr_built</th>\n",
       "      <th>yr_renovated</th>\n",
       "      <th>street</th>\n",
       "      <th>city</th>\n",
       "      <th>statezip</th>\n",
       "      <th>country</th>\n",
       "    </tr>\n",
       "  </thead>\n",
       "  <tbody>\n",
       "    <tr>\n",
       "      <th>0</th>\n",
       "      <td>2014-05-02 00:00:00</td>\n",
       "      <td>3.130000e+05</td>\n",
       "      <td>3.0</td>\n",
       "      <td>1.50</td>\n",
       "      <td>1340</td>\n",
       "      <td>7912</td>\n",
       "      <td>1.5</td>\n",
       "      <td>0</td>\n",
       "      <td>0</td>\n",
       "      <td>3</td>\n",
       "      <td>1340</td>\n",
       "      <td>0</td>\n",
       "      <td>1955</td>\n",
       "      <td>2005</td>\n",
       "      <td>18810 Densmore Ave N</td>\n",
       "      <td>Shoreline</td>\n",
       "      <td>WA 98133</td>\n",
       "      <td>USA</td>\n",
       "    </tr>\n",
       "    <tr>\n",
       "      <th>1</th>\n",
       "      <td>2014-05-02 00:00:00</td>\n",
       "      <td>2.384000e+06</td>\n",
       "      <td>5.0</td>\n",
       "      <td>2.50</td>\n",
       "      <td>3650</td>\n",
       "      <td>9050</td>\n",
       "      <td>2.0</td>\n",
       "      <td>0</td>\n",
       "      <td>4</td>\n",
       "      <td>5</td>\n",
       "      <td>3370</td>\n",
       "      <td>280</td>\n",
       "      <td>1921</td>\n",
       "      <td>0</td>\n",
       "      <td>709 W Blaine St</td>\n",
       "      <td>Seattle</td>\n",
       "      <td>WA 98119</td>\n",
       "      <td>USA</td>\n",
       "    </tr>\n",
       "    <tr>\n",
       "      <th>2</th>\n",
       "      <td>2014-05-02 00:00:00</td>\n",
       "      <td>3.420000e+05</td>\n",
       "      <td>3.0</td>\n",
       "      <td>2.00</td>\n",
       "      <td>1930</td>\n",
       "      <td>11947</td>\n",
       "      <td>1.0</td>\n",
       "      <td>0</td>\n",
       "      <td>0</td>\n",
       "      <td>4</td>\n",
       "      <td>1930</td>\n",
       "      <td>0</td>\n",
       "      <td>1966</td>\n",
       "      <td>0</td>\n",
       "      <td>26206-26214 143rd Ave SE</td>\n",
       "      <td>Kent</td>\n",
       "      <td>WA 98042</td>\n",
       "      <td>USA</td>\n",
       "    </tr>\n",
       "    <tr>\n",
       "      <th>3</th>\n",
       "      <td>2014-05-02 00:00:00</td>\n",
       "      <td>4.200000e+05</td>\n",
       "      <td>3.0</td>\n",
       "      <td>2.25</td>\n",
       "      <td>2000</td>\n",
       "      <td>8030</td>\n",
       "      <td>1.0</td>\n",
       "      <td>0</td>\n",
       "      <td>0</td>\n",
       "      <td>4</td>\n",
       "      <td>1000</td>\n",
       "      <td>1000</td>\n",
       "      <td>1963</td>\n",
       "      <td>0</td>\n",
       "      <td>857 170th Pl NE</td>\n",
       "      <td>Bellevue</td>\n",
       "      <td>WA 98008</td>\n",
       "      <td>USA</td>\n",
       "    </tr>\n",
       "    <tr>\n",
       "      <th>4</th>\n",
       "      <td>2014-05-02 00:00:00</td>\n",
       "      <td>5.500000e+05</td>\n",
       "      <td>4.0</td>\n",
       "      <td>2.50</td>\n",
       "      <td>1940</td>\n",
       "      <td>10500</td>\n",
       "      <td>1.0</td>\n",
       "      <td>0</td>\n",
       "      <td>0</td>\n",
       "      <td>4</td>\n",
       "      <td>1140</td>\n",
       "      <td>800</td>\n",
       "      <td>1976</td>\n",
       "      <td>1992</td>\n",
       "      <td>9105 170th Ave NE</td>\n",
       "      <td>Redmond</td>\n",
       "      <td>WA 98052</td>\n",
       "      <td>USA</td>\n",
       "    </tr>\n",
       "    <tr>\n",
       "      <th>...</th>\n",
       "      <td>...</td>\n",
       "      <td>...</td>\n",
       "      <td>...</td>\n",
       "      <td>...</td>\n",
       "      <td>...</td>\n",
       "      <td>...</td>\n",
       "      <td>...</td>\n",
       "      <td>...</td>\n",
       "      <td>...</td>\n",
       "      <td>...</td>\n",
       "      <td>...</td>\n",
       "      <td>...</td>\n",
       "      <td>...</td>\n",
       "      <td>...</td>\n",
       "      <td>...</td>\n",
       "      <td>...</td>\n",
       "      <td>...</td>\n",
       "      <td>...</td>\n",
       "    </tr>\n",
       "    <tr>\n",
       "      <th>4595</th>\n",
       "      <td>2014-07-09 00:00:00</td>\n",
       "      <td>3.081667e+05</td>\n",
       "      <td>3.0</td>\n",
       "      <td>1.75</td>\n",
       "      <td>1510</td>\n",
       "      <td>6360</td>\n",
       "      <td>1.0</td>\n",
       "      <td>0</td>\n",
       "      <td>0</td>\n",
       "      <td>4</td>\n",
       "      <td>1510</td>\n",
       "      <td>0</td>\n",
       "      <td>1954</td>\n",
       "      <td>1979</td>\n",
       "      <td>501 N 143rd St</td>\n",
       "      <td>Seattle</td>\n",
       "      <td>WA 98133</td>\n",
       "      <td>USA</td>\n",
       "    </tr>\n",
       "    <tr>\n",
       "      <th>4596</th>\n",
       "      <td>2014-07-09 00:00:00</td>\n",
       "      <td>5.343333e+05</td>\n",
       "      <td>3.0</td>\n",
       "      <td>2.50</td>\n",
       "      <td>1460</td>\n",
       "      <td>7573</td>\n",
       "      <td>2.0</td>\n",
       "      <td>0</td>\n",
       "      <td>0</td>\n",
       "      <td>3</td>\n",
       "      <td>1460</td>\n",
       "      <td>0</td>\n",
       "      <td>1983</td>\n",
       "      <td>2009</td>\n",
       "      <td>14855 SE 10th Pl</td>\n",
       "      <td>Bellevue</td>\n",
       "      <td>WA 98007</td>\n",
       "      <td>USA</td>\n",
       "    </tr>\n",
       "    <tr>\n",
       "      <th>4597</th>\n",
       "      <td>2014-07-09 00:00:00</td>\n",
       "      <td>4.169042e+05</td>\n",
       "      <td>3.0</td>\n",
       "      <td>2.50</td>\n",
       "      <td>3010</td>\n",
       "      <td>7014</td>\n",
       "      <td>2.0</td>\n",
       "      <td>0</td>\n",
       "      <td>0</td>\n",
       "      <td>3</td>\n",
       "      <td>3010</td>\n",
       "      <td>0</td>\n",
       "      <td>2009</td>\n",
       "      <td>0</td>\n",
       "      <td>759 Ilwaco Pl NE</td>\n",
       "      <td>Renton</td>\n",
       "      <td>WA 98059</td>\n",
       "      <td>USA</td>\n",
       "    </tr>\n",
       "    <tr>\n",
       "      <th>4598</th>\n",
       "      <td>2014-07-10 00:00:00</td>\n",
       "      <td>2.034000e+05</td>\n",
       "      <td>4.0</td>\n",
       "      <td>2.00</td>\n",
       "      <td>2090</td>\n",
       "      <td>6630</td>\n",
       "      <td>1.0</td>\n",
       "      <td>0</td>\n",
       "      <td>0</td>\n",
       "      <td>3</td>\n",
       "      <td>1070</td>\n",
       "      <td>1020</td>\n",
       "      <td>1974</td>\n",
       "      <td>0</td>\n",
       "      <td>5148 S Creston St</td>\n",
       "      <td>Seattle</td>\n",
       "      <td>WA 98178</td>\n",
       "      <td>USA</td>\n",
       "    </tr>\n",
       "    <tr>\n",
       "      <th>4599</th>\n",
       "      <td>2014-07-10 00:00:00</td>\n",
       "      <td>2.206000e+05</td>\n",
       "      <td>3.0</td>\n",
       "      <td>2.50</td>\n",
       "      <td>1490</td>\n",
       "      <td>8102</td>\n",
       "      <td>2.0</td>\n",
       "      <td>0</td>\n",
       "      <td>0</td>\n",
       "      <td>4</td>\n",
       "      <td>1490</td>\n",
       "      <td>0</td>\n",
       "      <td>1990</td>\n",
       "      <td>0</td>\n",
       "      <td>18717 SE 258th St</td>\n",
       "      <td>Covington</td>\n",
       "      <td>WA 98042</td>\n",
       "      <td>USA</td>\n",
       "    </tr>\n",
       "  </tbody>\n",
       "</table>\n",
       "<p>4600 rows × 18 columns</p>\n",
       "</div>"
      ],
      "text/plain": [
       "                     date         price  bedrooms  bathrooms  sqft_living  \\\n",
       "0     2014-05-02 00:00:00  3.130000e+05       3.0       1.50         1340   \n",
       "1     2014-05-02 00:00:00  2.384000e+06       5.0       2.50         3650   \n",
       "2     2014-05-02 00:00:00  3.420000e+05       3.0       2.00         1930   \n",
       "3     2014-05-02 00:00:00  4.200000e+05       3.0       2.25         2000   \n",
       "4     2014-05-02 00:00:00  5.500000e+05       4.0       2.50         1940   \n",
       "...                   ...           ...       ...        ...          ...   \n",
       "4595  2014-07-09 00:00:00  3.081667e+05       3.0       1.75         1510   \n",
       "4596  2014-07-09 00:00:00  5.343333e+05       3.0       2.50         1460   \n",
       "4597  2014-07-09 00:00:00  4.169042e+05       3.0       2.50         3010   \n",
       "4598  2014-07-10 00:00:00  2.034000e+05       4.0       2.00         2090   \n",
       "4599  2014-07-10 00:00:00  2.206000e+05       3.0       2.50         1490   \n",
       "\n",
       "      sqft_lot  floors  waterfront  view  condition  sqft_above  \\\n",
       "0         7912     1.5           0     0          3        1340   \n",
       "1         9050     2.0           0     4          5        3370   \n",
       "2        11947     1.0           0     0          4        1930   \n",
       "3         8030     1.0           0     0          4        1000   \n",
       "4        10500     1.0           0     0          4        1140   \n",
       "...        ...     ...         ...   ...        ...         ...   \n",
       "4595      6360     1.0           0     0          4        1510   \n",
       "4596      7573     2.0           0     0          3        1460   \n",
       "4597      7014     2.0           0     0          3        3010   \n",
       "4598      6630     1.0           0     0          3        1070   \n",
       "4599      8102     2.0           0     0          4        1490   \n",
       "\n",
       "      sqft_basement  yr_built  yr_renovated                    street  \\\n",
       "0                 0      1955          2005      18810 Densmore Ave N   \n",
       "1               280      1921             0           709 W Blaine St   \n",
       "2                 0      1966             0  26206-26214 143rd Ave SE   \n",
       "3              1000      1963             0           857 170th Pl NE   \n",
       "4               800      1976          1992         9105 170th Ave NE   \n",
       "...             ...       ...           ...                       ...   \n",
       "4595              0      1954          1979            501 N 143rd St   \n",
       "4596              0      1983          2009          14855 SE 10th Pl   \n",
       "4597              0      2009             0          759 Ilwaco Pl NE   \n",
       "4598           1020      1974             0         5148 S Creston St   \n",
       "4599              0      1990             0         18717 SE 258th St   \n",
       "\n",
       "           city  statezip country  \n",
       "0     Shoreline  WA 98133     USA  \n",
       "1       Seattle  WA 98119     USA  \n",
       "2          Kent  WA 98042     USA  \n",
       "3      Bellevue  WA 98008     USA  \n",
       "4       Redmond  WA 98052     USA  \n",
       "...         ...       ...     ...  \n",
       "4595    Seattle  WA 98133     USA  \n",
       "4596   Bellevue  WA 98007     USA  \n",
       "4597     Renton  WA 98059     USA  \n",
       "4598    Seattle  WA 98178     USA  \n",
       "4599  Covington  WA 98042     USA  \n",
       "\n",
       "[4600 rows x 18 columns]"
      ]
     },
     "execution_count": 4,
     "metadata": {},
     "output_type": "execute_result"
    }
   ],
   "source": [
    "data\n"
   ]
  },
  {
   "cell_type": "code",
   "execution_count": 5,
   "metadata": {
    "execution": {
     "iopub.execute_input": "2023-10-09T16:11:37.796798Z",
     "iopub.status.busy": "2023-10-09T16:11:37.796073Z",
     "iopub.status.idle": "2023-10-09T16:11:37.812548Z",
     "shell.execute_reply": "2023-10-09T16:11:37.811215Z",
     "shell.execute_reply.started": "2023-10-09T16:11:37.796744Z"
    }
   },
   "outputs": [
    {
     "name": "stdout",
     "output_type": "stream",
     "text": [
      "<class 'pandas.core.frame.DataFrame'>\n",
      "RangeIndex: 4600 entries, 0 to 4599\n",
      "Data columns (total 18 columns):\n",
      " #   Column         Non-Null Count  Dtype  \n",
      "---  ------         --------------  -----  \n",
      " 0   date           4600 non-null   object \n",
      " 1   price          4600 non-null   float64\n",
      " 2   bedrooms       4600 non-null   float64\n",
      " 3   bathrooms      4600 non-null   float64\n",
      " 4   sqft_living    4600 non-null   int64  \n",
      " 5   sqft_lot       4600 non-null   int64  \n",
      " 6   floors         4600 non-null   float64\n",
      " 7   waterfront     4600 non-null   int64  \n",
      " 8   view           4600 non-null   int64  \n",
      " 9   condition      4600 non-null   int64  \n",
      " 10  sqft_above     4600 non-null   int64  \n",
      " 11  sqft_basement  4600 non-null   int64  \n",
      " 12  yr_built       4600 non-null   int64  \n",
      " 13  yr_renovated   4600 non-null   int64  \n",
      " 14  street         4600 non-null   object \n",
      " 15  city           4600 non-null   object \n",
      " 16  statezip       4600 non-null   object \n",
      " 17  country        4600 non-null   object \n",
      "dtypes: float64(4), int64(9), object(5)\n",
      "memory usage: 647.0+ KB\n"
     ]
    }
   ],
   "source": [
    "# Step 1 Data Prepration\n",
    "\n",
    "data.info()"
   ]
  },
  {
   "cell_type": "code",
   "execution_count": 6,
   "metadata": {
    "execution": {
     "iopub.execute_input": "2023-10-09T16:11:37.842133Z",
     "iopub.status.busy": "2023-10-09T16:11:37.841779Z",
     "iopub.status.idle": "2023-10-09T16:11:37.856097Z",
     "shell.execute_reply": "2023-10-09T16:11:37.854633Z",
     "shell.execute_reply.started": "2023-10-09T16:11:37.842107Z"
    }
   },
   "outputs": [
    {
     "name": "stdout",
     "output_type": "stream",
     "text": [
      "The dataset covers the years from 2014 to 2014.\n"
     ]
    }
   ],
   "source": [
    "data['date'] = pd.to_datetime(data['date'])\n",
    "\n",
    "min_year = data['date'].min().year\n",
    "max_year = data['date'].max().year\n",
    "\n",
    "print(f\"The dataset covers the years from {min_year} to {max_year}.\")"
   ]
  },
  {
   "cell_type": "code",
   "execution_count": 7,
   "metadata": {
    "execution": {
     "iopub.execute_input": "2023-10-09T16:11:37.883244Z",
     "iopub.status.busy": "2023-10-09T16:11:37.882821Z",
     "iopub.status.idle": "2023-10-09T16:11:37.893279Z",
     "shell.execute_reply": "2023-10-09T16:11:37.892035Z",
     "shell.execute_reply.started": "2023-10-09T16:11:37.883213Z"
    }
   },
   "outputs": [
    {
     "name": "stdout",
     "output_type": "stream",
     "text": [
      "0       10592\n",
      "1       16350\n",
      "2       15807\n",
      "3       12030\n",
      "4       14380\n",
      "        ...  \n",
      "4595     9380\n",
      "4596    10493\n",
      "4597    13034\n",
      "4598    10810\n",
      "4599    11082\n",
      "Name: total_sqft, Length: 4600, dtype: int64\n"
     ]
    }
   ],
   "source": [
    "# Step 2 Feature Engineering:\n",
    "\n",
    "data['total_sqft'] = data['sqft_living'] + data['sqft_lot'] + data['sqft_above'] + data['sqft_basement']\n",
    "print(data['total_sqft'])"
   ]
  },
  {
   "cell_type": "code",
   "execution_count": 8,
   "metadata": {
    "execution": {
     "iopub.execute_input": "2023-10-09T16:11:37.931800Z",
     "iopub.status.busy": "2023-10-09T16:11:37.931386Z",
     "iopub.status.idle": "2023-10-09T16:11:37.941360Z",
     "shell.execute_reply": "2023-10-09T16:11:37.940118Z",
     "shell.execute_reply.started": "2023-10-09T16:11:37.931769Z"
    }
   },
   "outputs": [
    {
     "name": "stdout",
     "output_type": "stream",
     "text": [
      "0       59\n",
      "1       93\n",
      "2       48\n",
      "3       51\n",
      "4       38\n",
      "        ..\n",
      "4595    60\n",
      "4596    31\n",
      "4597     5\n",
      "4598    40\n",
      "4599    24\n",
      "Name: house_age, Length: 4600, dtype: int64\n"
     ]
    }
   ],
   "source": [
    "data['house_age'] = 2014 - data['yr_built']\n",
    "\n",
    "print(data['house_age'])"
   ]
  },
  {
   "cell_type": "code",
   "execution_count": 9,
   "metadata": {
    "execution": {
     "iopub.execute_input": "2023-10-09T16:11:37.960229Z",
     "iopub.status.busy": "2023-10-09T16:11:37.959822Z",
     "iopub.status.idle": "2023-10-09T16:11:37.967552Z",
     "shell.execute_reply": "2023-10-09T16:11:37.966215Z",
     "shell.execute_reply.started": "2023-10-09T16:11:37.960199Z"
    }
   },
   "outputs": [
    {
     "name": "stdout",
     "output_type": "stream",
     "text": [
      "[2005    0 1992 1994 2010 1988 2009 1969 2000 1979 1989 2014 1999 2003\n",
      " 1983 1997 1912 1923 1954 2011 2001 2013 2006 1972 1985 1998 2004 1958\n",
      " 2008 1970 1982 1986 1996 2002 1971 1990 1956 1945 1984 2012 1993 2007\n",
      " 1981 1974 1963 1968 1995 1934 1953 1966 1955 1987 1960 1978 1980 1948\n",
      " 1991 1913 1977 1975]\n"
     ]
    }
   ],
   "source": [
    "print(data['yr_renovated'].unique())"
   ]
  },
  {
   "cell_type": "code",
   "execution_count": 10,
   "metadata": {
    "execution": {
     "iopub.execute_input": "2023-10-09T16:11:37.999311Z",
     "iopub.status.busy": "2023-10-09T16:11:37.998876Z",
     "iopub.status.idle": "2023-10-09T16:11:38.013350Z",
     "shell.execute_reply": "2023-10-09T16:11:38.010420Z",
     "shell.execute_reply.started": "2023-10-09T16:11:37.999278Z"
    }
   },
   "outputs": [
    {
     "name": "stdout",
     "output_type": "stream",
     "text": [
      "0        9\n",
      "1        0\n",
      "2        0\n",
      "3        0\n",
      "4       22\n",
      "        ..\n",
      "4595    35\n",
      "4596     5\n",
      "4597     0\n",
      "4598     0\n",
      "4599     0\n",
      "Name: renovation_age, Length: 4600, dtype: int64\n"
     ]
    }
   ],
   "source": [
    "data['renovation_age'] = 2014 - data['yr_renovated'].replace(0, 2014)\n",
    "print(data['renovation_age'])"
   ]
  },
  {
   "cell_type": "code",
   "execution_count": 11,
   "metadata": {
    "execution": {
     "iopub.execute_input": "2023-10-09T16:11:38.036417Z",
     "iopub.status.busy": "2023-10-09T16:11:38.036031Z",
     "iopub.status.idle": "2023-10-09T16:11:38.046275Z",
     "shell.execute_reply": "2023-10-09T16:11:38.045062Z",
     "shell.execute_reply.started": "2023-10-09T16:11:38.036388Z"
    }
   },
   "outputs": [
    {
     "name": "stdout",
     "output_type": "stream",
     "text": [
      "0       2.000000\n",
      "1       2.000000\n",
      "2       1.500000\n",
      "3       1.333333\n",
      "4       1.600000\n",
      "          ...   \n",
      "4595    1.714286\n",
      "4596    1.200000\n",
      "4597    1.200000\n",
      "4598    2.000000\n",
      "4599    1.200000\n",
      "Name: bedroom_to_bathroom_ratio, Length: 4600, dtype: float64\n"
     ]
    }
   ],
   "source": [
    "data['bedroom_to_bathroom_ratio'] = data['bedrooms'] / data['bathrooms']\n",
    "print(data['bedroom_to_bathroom_ratio'])"
   ]
  },
  {
   "cell_type": "code",
   "execution_count": 12,
   "metadata": {
    "execution": {
     "iopub.execute_input": "2023-10-09T16:11:38.067204Z",
     "iopub.status.busy": "2023-10-09T16:11:38.066809Z",
     "iopub.status.idle": "2023-10-09T16:11:38.079104Z",
     "shell.execute_reply": "2023-10-09T16:11:38.077542Z",
     "shell.execute_reply.started": "2023-10-09T16:11:38.067175Z"
    }
   },
   "outputs": [],
   "source": [
    "#transformation of 'price' to reduce skewness\n",
    "\n",
    "data['log_price'] = np.log1p(data['price'])\n",
    "\n",
    "# \n",
    "data['sqrt_sqft_living'] = np.sqrt(data['sqft_living'])\n",
    "\n",
    "# Basement\n",
    "data['has_basement'] = (data['sqft_basement'] > 0).astype(int)\n",
    "\n",
    "# Water front\n",
    "data['is_waterfront'] = (data['waterfront'] == 1).astype(int)\n",
    "\n",
    "# View\n",
    "data['has_view'] = (data['view'] > 0).astype(int)"
   ]
  },
  {
   "cell_type": "code",
   "execution_count": 13,
   "metadata": {
    "execution": {
     "iopub.execute_input": "2023-10-09T16:11:38.123834Z",
     "iopub.status.busy": "2023-10-09T16:11:38.123334Z",
     "iopub.status.idle": "2023-10-09T16:11:38.142319Z",
     "shell.execute_reply": "2023-10-09T16:11:38.141392Z",
     "shell.execute_reply.started": "2023-10-09T16:11:38.123798Z"
    }
   },
   "outputs": [
    {
     "name": "stdout",
     "output_type": "stream",
     "text": [
      "<class 'pandas.core.frame.DataFrame'>\n",
      "RangeIndex: 4600 entries, 0 to 4599\n",
      "Data columns (total 10 columns):\n",
      " #   Column                     Non-Null Count  Dtype  \n",
      "---  ------                     --------------  -----  \n",
      " 0   total_sqft                 4600 non-null   int64  \n",
      " 1   house_age                  4600 non-null   int64  \n",
      " 2   renovation_age             4600 non-null   int64  \n",
      " 3   bedroom_to_bathroom_ratio  4598 non-null   float64\n",
      " 4   log_price                  4600 non-null   float64\n",
      " 5   sqrt_sqft_living           4600 non-null   float64\n",
      " 6   has_basement               4600 non-null   int32  \n",
      " 7   is_waterfront              4600 non-null   int32  \n",
      " 8   has_view                   4600 non-null   int32  \n",
      " 9   price                      4600 non-null   float64\n",
      "dtypes: float64(4), int32(3), int64(3)\n",
      "memory usage: 305.6 KB\n"
     ]
    }
   ],
   "source": [
    "# Select Relevant Features and discard other:\n",
    "\n",
    "selected_features = [\n",
    "    'total_sqft',\n",
    "    'house_age',\n",
    "    'renovation_age',\n",
    "    'bedroom_to_bathroom_ratio',\n",
    "    'log_price',\n",
    "    'sqrt_sqft_living',\n",
    "    'has_basement',\n",
    "    'is_waterfront',\n",
    "    'has_view',\n",
    "    'price'  \n",
    "]\n",
    "\n",
    "selected_data = data[selected_features]\n",
    "\n",
    "selected_data.info()\n"
   ]
  },
  {
   "cell_type": "code",
   "execution_count": 14,
   "metadata": {
    "execution": {
     "iopub.execute_input": "2023-10-09T16:11:38.175636Z",
     "iopub.status.busy": "2023-10-09T16:11:38.175207Z",
     "iopub.status.idle": "2023-10-09T16:11:38.229484Z",
     "shell.execute_reply": "2023-10-09T16:11:38.227987Z",
     "shell.execute_reply.started": "2023-10-09T16:11:38.175602Z"
    }
   },
   "outputs": [
    {
     "name": "stdout",
     "output_type": "stream",
     "text": [
      "Mean Squared Error (MSE): 938262202688.8262\n",
      "Root Mean Squared Error (RMSE): 968639.3563596444\n",
      "R-squared (R2) Score: 0.07999649966010791\n",
      "Model Coefficients:\n",
      "total_sqft: -0.37802544064783217\n",
      "house_age: 2404.3742440822716\n",
      "renovation_age: 267.61512930259505\n",
      "bedroom_to_bathroom_ratio: -50028.48253340684\n",
      "log_price: 87916.82206287661\n",
      "sqrt_sqft_living: 22197.69232834211\n",
      "has_basement: -41454.949823644274\n",
      "is_waterfront: 536391.9630479384\n",
      "has_view: 154203.74023389712\n"
     ]
    }
   ],
   "source": [
    "\n",
    "from sklearn.impute import SimpleImputer\n",
    "imputer = SimpleImputer(strategy='median')\n",
    "imputed_data = pd.DataFrame(imputer.fit_transform(selected_data), columns=selected_features)\n",
    "\n",
    "# Next Step is to Train Model\n",
    "from sklearn.model_selection import train_test_split\n",
    "from sklearn.linear_model import LinearRegression\n",
    "from sklearn.metrics import mean_squared_error, r2_score\n",
    "\n",
    "\n",
    "X = imputed_data.drop('price', axis=1)\n",
    "y = imputed_data['price']\n",
    "\n",
    "# Split the data into training and testing sets\n",
    "X_train, X_test, y_train, y_test = train_test_split(X, y, test_size=0.2, random_state=42)\n",
    "\n",
    "# Initialize the linear regression model\n",
    "model = LinearRegression()\n",
    "\n",
    "# Train the model on the training data\n",
    "model.fit(X_train, y_train)\n",
    "\n",
    "# Make predictions on the test data\n",
    "y_pred = model.predict(X_test)\n",
    "\n",
    "# Evaluate the model's performance\n",
    "mse = mean_squared_error(y_test, y_pred)\n",
    "rmse = np.sqrt(mse)\n",
    "r2 = r2_score(y_test, y_pred)\n",
    "\n",
    "# Print the evaluation metrics\n",
    "print(f\"Mean Squared Error (MSE): {mse}\")\n",
    "print(f\"Root Mean Squared Error (RMSE): {rmse}\")\n",
    "print(f\"R-squared (R2) Score: {r2}\")\n",
    "\n",
    "\n",
    "print(\"Model Coefficients:\")\n",
    "for feature, coef in zip(imputed_data.columns, model.coef_):\n",
    "    print(f\"{feature}: {coef}\")\n"
   ]
  },
  {
   "cell_type": "code",
   "execution_count": 15,
   "metadata": {
    "execution": {
     "iopub.execute_input": "2023-10-09T16:11:38.233500Z",
     "iopub.status.busy": "2023-10-09T16:11:38.232603Z",
     "iopub.status.idle": "2023-10-09T16:11:38.253807Z",
     "shell.execute_reply": "2023-10-09T16:11:38.251792Z",
     "shell.execute_reply.started": "2023-10-09T16:11:38.233442Z"
    }
   },
   "outputs": [
    {
     "name": "stdout",
     "output_type": "stream",
     "text": [
      "Missing Values after Imputation:\n",
      "total_sqft                   0\n",
      "house_age                    0\n",
      "renovation_age               0\n",
      "bedroom_to_bathroom_ratio    0\n",
      "log_price                    0\n",
      "sqrt_sqft_living             0\n",
      "has_basement                 0\n",
      "is_waterfront                0\n",
      "has_view                     0\n",
      "price                        0\n",
      "dtype: int64\n"
     ]
    }
   ],
   "source": [
    "selected_data_copy = selected_data.copy()\n",
    "\n",
    "\n",
    "median_ratio = selected_data_copy['bedroom_to_bathroom_ratio'].median()\n",
    "selected_data_copy['bedroom_to_bathroom_ratio'].fillna(median_ratio, inplace=True)\n",
    "\n",
    "\n",
    "missing_values = selected_data_copy.isnull().sum()\n",
    "print(\"Missing Values after Imputation:\")\n",
    "print(missing_values)"
   ]
  },
  {
   "cell_type": "code",
   "execution_count": 16,
   "metadata": {
    "execution": {
     "iopub.execute_input": "2023-10-09T16:11:38.263756Z",
     "iopub.status.busy": "2023-10-09T16:11:38.262597Z",
     "iopub.status.idle": "2023-10-09T16:11:39.693709Z",
     "shell.execute_reply": "2023-10-09T16:11:39.692190Z",
     "shell.execute_reply.started": "2023-10-09T16:11:38.263679Z"
    }
   },
   "outputs": [
    {
     "name": "stdout",
     "output_type": "stream",
     "text": [
      "Mean Squared Error (MSE): 601934178102.687\n",
      "Root Mean Squared Error (RMSE): 775844.1712758349\n",
      "R-squared (R2) Score: 0.40977953791414834\n",
      "total_sqft: 0.0020435814711632044\n",
      "house_age: 0.0016718731775132577\n",
      "renovation_age: 0.00033793828876556796\n",
      "bedroom_to_bathroom_ratio: 0.0006789381983993182\n",
      "log_price: 0.9891836897310217\n",
      "sqrt_sqft_living: 0.005802120557362825\n",
      "has_basement: 8.468948296609957e-05\n",
      "is_waterfront: 0.00019140730870868925\n",
      "has_view: 5.761784099281732e-06\n"
     ]
    }
   ],
   "source": [
    "from sklearn.ensemble import RandomForestRegressor\n",
    "\n",
    "X_train, X_test, y_train, y_test = train_test_split(X, y, test_size=0.2, random_state=42)\n",
    "rf_regressor = RandomForestRegressor(n_estimators=100, random_state=42)  \n",
    "rf_regressor.fit(X_train, y_train)\n",
    "y_pred = rf_regressor.predict(X_test)\n",
    "\n",
    "mse = mean_squared_error(y_test, y_pred)\n",
    "rmse = np.sqrt(mse)\n",
    "r2 = r2_score(y_test, y_pred)\n",
    "\n",
    "print(f\"Mean Squared Error (MSE): {mse}\")\n",
    "print(f\"Root Mean Squared Error (RMSE): {rmse}\")\n",
    "print(f\"R-squared (R2) Score: {r2}\")\n",
    "\n",
    "feature_importances = rf_regressor.feature_importances_\n",
    "for feature, importance in zip(selected_features, feature_importances):\n",
    "    print(f\"{feature}: {importance}\")\n",
    "\n",
    "\n",
    "\n",
    "\n",
    "\n",
    "\n"
   ]
  },
  {
   "cell_type": "code",
   "execution_count": 17,
   "metadata": {
    "execution": {
     "iopub.execute_input": "2023-10-09T16:11:39.696908Z",
     "iopub.status.busy": "2023-10-09T16:11:39.696213Z",
     "iopub.status.idle": "2023-10-09T16:11:43.892695Z",
     "shell.execute_reply": "2023-10-09T16:11:43.891500Z",
     "shell.execute_reply.started": "2023-10-09T16:11:39.696871Z"
    }
   },
   "outputs": [
    {
     "name": "stdout",
     "output_type": "stream",
     "text": [
      "Mean Squared Error (MSE): 593802255731.9281\n",
      "Root Mean Squared Error (RMSE): 770585.6576214796\n",
      "R-squared (R2) Score: 0.41775321203653193\n"
     ]
    }
   ],
   "source": [
    "tuned_rfr = RandomForestRegressor(\n",
    "    max_depth=None,\n",
    "    min_samples_leaf=1,\n",
    "    min_samples_split=2,\n",
    "    n_estimators=300,\n",
    "    random_state=42)\n",
    "    \n",
    "tuned_rfr.fit(X_train, y_train)\n",
    "y_pred = tuned_rfr.predict(X_test)\n",
    "\n",
    "mse = mean_squared_error(y_test, y_pred)\n",
    "rmse = np.sqrt(mse)\n",
    "r2 = r2_score(y_test, y_pred)\n",
    "\n",
    "print(f\"Mean Squared Error (MSE): {mse}\")\n",
    "print(f\"Root Mean Squared Error (RMSE): {rmse}\")\n",
    "print(f\"R-squared (R2) Score: {r2}\")\n",
    "\n",
    "feature_importances = tuned_rfr.feature_importances_"
   ]
  },
  {
   "cell_type": "code",
   "execution_count": 18,
   "metadata": {},
   "outputs": [],
   "source": [
    "# Assuming y_pred contains the predicted log prices\n",
    "predicted_log_prices = model.predict(X_test)\n",
    "\n",
    "# Calculate the maximum value of predicted log prices\n",
    "max_log_price = np.max(predicted_log_prices)\n",
    "\n",
    "# Shift the predicted log prices to a more reasonable range by subtracting the maximum value\n",
    "shifted_log_prices = predicted_log_prices - max_log_price\n",
    "\n",
    "# Transform the shifted log prices to actual prices using np.expm1\n",
    "predicted_prices = np.expm1(shifted_log_prices)"
   ]
  },
  {
   "cell_type": "code",
   "execution_count": 19,
   "metadata": {},
   "outputs": [],
   "source": [
    "import pickle\n",
    "\n",
    "with open('model.pkl', 'wb') as model_file:\n",
    "    pickle.dump(model, model_file)"
   ]
  },
  {
   "cell_type": "code",
   "execution_count": null,
   "metadata": {},
   "outputs": [],
   "source": []
  }
 ],
 "metadata": {
  "kernelspec": {
   "display_name": "Python 3 (ipykernel)",
   "language": "python",
   "name": "python3"
  },
  "language_info": {
   "codemirror_mode": {
    "name": "ipython",
    "version": 3
   },
   "file_extension": ".py",
   "mimetype": "text/x-python",
   "name": "python",
   "nbconvert_exporter": "python",
   "pygments_lexer": "ipython3",
   "version": "3.10.9"
  }
 },
 "nbformat": 4,
 "nbformat_minor": 4
}
